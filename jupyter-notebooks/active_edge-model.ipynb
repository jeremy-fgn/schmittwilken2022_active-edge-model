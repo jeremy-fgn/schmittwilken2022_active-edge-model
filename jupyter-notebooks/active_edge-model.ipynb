{
 "cells": [
  {
   "attachments": {},
   "cell_type": "markdown",
   "id": "39dec1ba",
   "metadata": {},
   "source": [
    "# Robust edge detection through active visual sampling via fixational eye movements - A run through the model\n",
    "\n",
    "## Overview\n",
    "- Model overview\n",
    "- Imports\n",
    "- (A) Example input\n",
    "- (B) Active sampling / Applying drift\n",
    "- (C) Spatiotemporal filtering\n",
    "- (D) Temporal integration\n",
    "- (E) Within-scale normalization\n",
    "- (F) Across-scale integration / Sum\n",
    "- (G) Evaluation\n",
    "\n",
    "## Model overview\n",
    "![model](model_overview.png \"Model\")\n",
    "\n",
    "## Imports"
   ]
  },
  {
   "cell_type": "code",
   "execution_count": null,
   "id": "0b3ad3f2",
   "metadata": {},
   "outputs": [],
   "source": [
    "import numpy as np\n",
    "import matplotlib.pyplot as plt\n",
    "import sys\n",
    "import glob\n",
    "import os\n",
    "import cv2\n",
    "from matplotlib import animation\n",
    "from IPython.display import HTML\n",
    "\n",
    "# Read functions from parent folder:\n",
    "sys.path.append('../simulations')\n",
    "import parameters as params\n",
    "from functions import create_drift, apply_drift, octave_intervals, create_dog, create_tfilt, \\\n",
    "remove_borders, create_white_stimulus, create_noisemask, create_white_gt, quantify_edges, thicken_edges"
   ]
  },
  {
   "cell_type": "code",
   "execution_count": null,
   "id": "1680bd49",
   "metadata": {},
   "outputs": [],
   "source": [
    "ffmpeg_path = r'C:\\Program Files\\FFMPEG\\ffmpeg-5.1.2-essentials_build\\bin\\ffmpeg.exe' # replace with your own path"
   ]
  },
  {
   "cell_type": "code",
   "execution_count": null,
   "id": "b1f8c208",
   "metadata": {},
   "outputs": [],
   "source": [
    "def show_video(vid_arr, cmap='gray'):\n",
    "    \"\"\"Helper function to display a video\n",
    "\n",
    "    Parameters\n",
    "    ----------\n",
    "    vid_arr\n",
    "        3D video array with dimensions (x, y, t)\n",
    "    cmap\n",
    "        Colormap used for plotting (default: grayscale)\n",
    "\n",
    "    \"\"\"\n",
    "    %matplotlib inline\n",
    "    fig = plt.figure(figsize=(8,8))\n",
    "    im = plt.imshow(vid_arr[:,:,0], cmap=cmap)\n",
    "    plt.axis('off')\n",
    "    plt.close()\n",
    "\n",
    "    def init():\n",
    "        im.set_data(vid_arr[:,:,0])\n",
    "\n",
    "    def animate(i):\n",
    "        im.set_data(vid_arr[:,:,i])\n",
    "        return im\n",
    "\n",
    "    anim = animation.FuncAnimation(fig, animate, init_func=init, frames=vid_arr.shape[2], interval=50)\n",
    "    plt.rcParams['animation.ffmpeg_path'] = ffmpeg_path\n",
    "    return anim\n",
    "\n",
    "\n",
    "def show_filter_videos(vid_arr, cmap='gray'):\n",
    "    \"\"\"Helper function to display videos of the filter outputs of our model\n",
    "    at all five spatial scales simultanouesly\n",
    "\n",
    "    Parameters\n",
    "    ----------\n",
    "    vid_arr\n",
    "        4D video array with dimensions (x, y, t, filter_scale).\n",
    "        The last dimensions needs to have a size of 5.\n",
    "    cmap\n",
    "        Colormap used for plotting (default: grayscale)\n",
    "\n",
    "    \"\"\"\n",
    "    %matplotlib inline\n",
    "    n_filters = vid_arr.shape[-1]\n",
    "    fig, [ax1, ax2, ax3, ax4, ax5] = plt.subplots(1, n_filters, figsize=(12,4), sharex=True, sharey=True)\n",
    "    fig.subplots_adjust(wspace=0.01)\n",
    "    \n",
    "    # initialize\n",
    "    im1 = ax1.imshow(vid_arr[:,:,0,0], cmap=cmap, animated=True)\n",
    "    im2 = ax2.imshow(vid_arr[:,:,0,1], cmap=cmap, animated=True)\n",
    "    im3 = ax3.imshow(vid_arr[:,:,0,2], cmap=cmap, animated=True)\n",
    "    im4 = ax4.imshow(vid_arr[:,:,0,3], cmap=cmap, animated=True)\n",
    "    im5 = ax5.imshow(vid_arr[:,:,0,4], cmap=cmap, animated=True)\n",
    "    plt.close()\n",
    "    \n",
    "    for i, ax in enumerate([ax1, ax2, ax3, ax4, ax5]):\n",
    "        ax.set(title='Scale' + str(i))\n",
    "        ax.axis('off')\n",
    "\n",
    "    # update\n",
    "    def animate(f):\n",
    "        im1.set_data(vid_arr[:,:,f,0])\n",
    "        im2.set_data(vid_arr[:,:,f,1])\n",
    "        im3.set_data(vid_arr[:,:,f,2])\n",
    "        im4.set_data(vid_arr[:,:,f,3])\n",
    "        im5.set_data(vid_arr[:,:,f,4])\n",
    "        \n",
    "\n",
    "    anim = animation.FuncAnimation(fig, animate, frames=vid_arr.shape[2], interval=50)\n",
    "    plt.rcParams['animation.ffmpeg_path'] = ffmpeg_path\n",
    "    return anim"
   ]
  },
  {
   "attachments": {},
   "cell_type": "markdown",
   "id": "951e0338",
   "metadata": {},
   "source": [
    "## (A) Example input\n",
    "As example, we will use one of the noisemasking stimuli from test case 1 of the paper with a medium grating frequency and a peak noise frequency of 9 cpd.\n",
    "\n",
    "### 1. Parameters"
   ]
  },
  {
   "cell_type": "code",
   "execution_count": null,
   "id": "b5054427",
   "metadata": {},
   "outputs": [],
   "source": [
    "# Spatial resolution for simulations (pixels per degree).\n",
    "ppd = 40\n",
    "\n",
    "# Which test case to use as an example (options: case1, case2)\n",
    "test_case = 'case1'\n",
    "\n",
    "# Path to load natural images\n",
    "input_path = params.data_path2"
   ]
  },
  {
   "attachments": {},
   "cell_type": "markdown",
   "id": "1a95cead",
   "metadata": {},
   "source": [
    "### 2. Create example stimulus\n",
    "Select one example stimulus from either test case 1 (White stimulus with narrowband noise by Betz et al., 2015) or test case 2 (natural image from Contour Image Database by Grigorescu et al., 2003)."
   ]
  },
  {
   "cell_type": "code",
   "execution_count": null,
   "id": "42c68481",
   "metadata": {},
   "outputs": [],
   "source": [
    "# Test case 1: White stimulus in narrowband noise (Betz et al., 2015)\n",
    "if test_case == 'case1':\n",
    "    visual_extent = [-8., 8., -8., 8.]  # in deg\n",
    "    \n",
    "    # Grating frequency of White stimulus\n",
    "    whitefreq = 'medium'\n",
    "\n",
    "    # Noisefrequency of mask in cpd (Parameters taken from Betz2015)\n",
    "    noisefreq = 9.\n",
    "    \n",
    "    # Create white stimulus in accordance to Betz2015\n",
    "    white_stimulus = create_white_stimulus(whitefreq, ppd)\n",
    "    white_size = white_stimulus.shape[0]\n",
    "\n",
    "    # Add gray background that covers the desired visual extent\n",
    "    back_size = visual_extent[1]*2.*ppd-white_size\n",
    "    white_stimulus = np.pad(white_stimulus, int(back_size/2.), 'constant', constant_values=(1.))\n",
    "    stim_size = white_stimulus.shape[0]\n",
    "\n",
    "    # Add the desired noisemask to the stimulus\n",
    "    stimulus = white_stimulus + create_noisemask(stim_size, noisefreq, ppd)\n",
    "\n",
    "# Test case 2: Natural images (Grigorescu et al., 2003) with/without Gaussian white noise\n",
    "elif test_case == 'case2':\n",
    "    s_noise = 0.1  # Gaussian white noise added to input; either 0. or 0.1\n",
    "    \n",
    "    # Create a list with all image names of the Contour Image Database\n",
    "    img_names = glob.glob(input_path + '*.pgm')\n",
    "    img_names = [f[0:-4] for f in os.listdir(input_path) if os.path.isfile(os.path.join(input_path, f))]\n",
    "    \n",
    "    # Choose one stimulus:\n",
    "    img_name = img_names[0]\n",
    "    stimulus = cv2.imread(input_path + img_name + '.pgm')\n",
    "    stimulus = cv2.cvtColor(stimulus, cv2.COLOR_BGR2GRAY) / 255.\n",
    "    \n",
    "    # Calculate image size in visual degree for the simulations\n",
    "    stim_size = stimulus.shape[0]\n",
    "    im_size_h = stimulus.shape[0] / ppd\n",
    "    im_size_w = stimulus.shape[1] / ppd\n",
    "\n",
    "    # Visual extent for the input stimuli:\n",
    "    visual_extent = [-im_size_h/2, im_size_h/2, -im_size_w/2, im_size_w/2]  # in deg\n",
    "    \n",
    "    # Add Gaussian white noise and crop values larger than 1 and smaller than 0\n",
    "    noise = np.random.normal(0., s_noise, [stim_size, stim_size])\n",
    "    stimulus = stimulus + noise\n",
    "    stimulus[stimulus <= 0.] = 0.\n",
    "    stimulus[stimulus >= 1.] = 1."
   ]
  },
  {
   "attachments": {},
   "cell_type": "markdown",
   "id": "d455652d",
   "metadata": {},
   "source": [
    "### 3. Plot stimulus"
   ]
  },
  {
   "cell_type": "code",
   "execution_count": null,
   "id": "2ea176c1",
   "metadata": {},
   "outputs": [],
   "source": [
    "# Plotting\n",
    "plt.figure(figsize=(6, 6))\n",
    "plt.imshow(stimulus, cmap='gray', extent=visual_extent)\n",
    "plt.colorbar()\n",
    "plt.title('Example stimulus')\n",
    "plt.xlabel('deg')\n",
    "plt.ylabel('deg')\n",
    "plt.show()"
   ]
  },
  {
   "attachments": {},
   "cell_type": "markdown",
   "id": "db4050bc",
   "metadata": {},
   "source": [
    "## (B) Active sampling / Applying drift\n",
    "\n",
    "### 1. Parameters"
   ]
  },
  {
   "cell_type": "code",
   "execution_count": null,
   "id": "d569d0af",
   "metadata": {},
   "outputs": [],
   "source": [
    "# Diffusion coefficient in deg**2/s (controls drift lengths)\n",
    "D = 20. / (60.**2.)\n",
    "\n",
    "# Total simulated fixation time in s\n",
    "T = 0.2\n",
    "\n",
    "# Drift sampling frequency in Hz / Temporal resolution\n",
    "pps = 100."
   ]
  },
  {
   "attachments": {},
   "cell_type": "markdown",
   "id": "84021572",
   "metadata": {},
   "source": [
    "### 2. Create drift trajectory"
   ]
  },
  {
   "cell_type": "code",
   "execution_count": null,
   "id": "0d380a8e",
   "metadata": {},
   "outputs": [],
   "source": [
    "# Create drift trajectories in px (continuous and int):\n",
    "driftc_, drift = create_drift(T, pps, ppd, D)"
   ]
  },
  {
   "cell_type": "code",
   "execution_count": null,
   "id": "b9e62786",
   "metadata": {},
   "outputs": [],
   "source": [
    "# Plotting\n",
    "plt.figure()\n",
    "plt.plot(driftc_[0,:] / ppd * 60., driftc_[1,:] / ppd * 60., 'o-', label='continuous')\n",
    "plt.plot(drift[0,:] / ppd * 60., drift[1,:] / ppd * 60., 'o-', label='full pixels')\n",
    "plt.title('Exemplary drift path')\n",
    "plt.xlabel('x [arcmin]'), plt.ylabel('y [arcmin]'), plt.legend()\n",
    "plt.show()"
   ]
  },
  {
   "attachments": {},
   "cell_type": "markdown",
   "id": "dc4c812c",
   "metadata": {},
   "source": [
    "### 3. Apply drift to the input stimulus"
   ]
  },
  {
   "cell_type": "code",
   "execution_count": null,
   "id": "17ccb8ad",
   "metadata": {},
   "outputs": [],
   "source": [
    "# Apply drift to stimulus to create dynamic video:\n",
    "stimulus_video = apply_drift(stimulus, drift, back_lum=stimulus.mean())"
   ]
  },
  {
   "cell_type": "code",
   "execution_count": null,
   "id": "e3234dc6",
   "metadata": {},
   "outputs": [],
   "source": [
    "# Display actively-sampled input video:\n",
    "anim = show_video(stimulus_video)\n",
    "HTML(anim.to_html5_video())"
   ]
  },
  {
   "attachments": {},
   "cell_type": "markdown",
   "id": "23b2bb63",
   "metadata": {},
   "source": [
    "## (C) Spatiotemporal filtering\n",
    "\n",
    "### 1. Define spatial filters at multiple scales"
   ]
  },
  {
   "cell_type": "code",
   "execution_count": null,
   "id": "2864bd48",
   "metadata": {},
   "outputs": [],
   "source": [
    "# Parameters:\n",
    "# Number of DoG filters in multiscale filter bank:\n",
    "n_filters = 5\n",
    "\n",
    "# Sigma of largest DoG filter of the bank (deg):\n",
    "smax = 0.256\n",
    "\n",
    "# Define sigmas of all DoG filters in octave intervals\n",
    "sigmas = octave_intervals(n_filters) * smax\n",
    "\n",
    "# Define spatial frequency axis\n",
    "nX = stim_size\n",
    "fs = np.fft.fftshift(np.fft.fftfreq(nX, d=1./ppd))\n",
    "fs_extent = (fs[0], fs[-1], fs[0], fs[-1])\n",
    "\n",
    "# Create a list with all dog filters:\n",
    "dogs_fft = []\n",
    "for i in range(n_filters):\n",
    "    # Create DoG filters in the frequency domain\n",
    "    fx, fy = np.meshgrid(fs, fs)\n",
    "    dog = create_dog(fx, fy, sigmas[i], 2.*sigmas[i])\n",
    "    dogs_fft.append(dog)"
   ]
  },
  {
   "cell_type": "code",
   "execution_count": null,
   "id": "8c3b0f7f",
   "metadata": {},
   "outputs": [],
   "source": [
    "# Plot all filters in the frequency domain:\n",
    "fig, axes = plt.subplots(1, n_filters, figsize=(18, 6), sharex=True, sharey=True)\n",
    "fig.subplots_adjust(wspace=0.001)\n",
    "\n",
    "for i in range(n_filters):\n",
    "    axes[i].imshow(dogs_fft[i], cmap='coolwarm', extent=fs_extent)\n",
    "    axes[i].set_title('Spatial scale: ' + str(i))\n",
    "    axes[i].set_xlabel('cpd')\n",
    "    axes[0].set_ylabel('cpd')"
   ]
  },
  {
   "attachments": {},
   "cell_type": "markdown",
   "id": "b808d714",
   "metadata": {},
   "source": [
    "### 2. Define temporal bandpass filter"
   ]
  },
  {
   "cell_type": "code",
   "execution_count": null,
   "id": "6226e9ff",
   "metadata": {},
   "outputs": [],
   "source": [
    "# Define temporal frequency axis:\n",
    "nT = int(T*pps + 1)\n",
    "ft = np.fft.fftshift(np.fft.fftfreq(nT, d=1./pps))\n",
    "\n",
    "# Create temporal filter:\n",
    "tfilter = create_tfilt(ft)"
   ]
  },
  {
   "cell_type": "code",
   "execution_count": null,
   "id": "3dafcabf",
   "metadata": {},
   "outputs": [],
   "source": [
    "# Plot temporal filter\n",
    "plt.figure(figsize=(8, 4))\n",
    "plt.plot(ft, tfilter, 'o-')\n",
    "plt.ylabel('Sensitivity')\n",
    "plt.xlabel('tf (Hz)')\n",
    "plt.show()"
   ]
  },
  {
   "attachments": {},
   "cell_type": "markdown",
   "id": "c58d0e93",
   "metadata": {},
   "source": [
    "### 3. Perform spatiotemporal filtering"
   ]
  },
  {
   "cell_type": "code",
   "execution_count": null,
   "id": "d0241d5e",
   "metadata": {},
   "outputs": [],
   "source": [
    "# To filter the input in the freq-domain, we perform a 3d-fft of the actively-sampled input video\n",
    "gfft_3d = np.fft.fftshift(np.fft.fftn(stimulus_video))\n",
    "\n",
    "# Expand the dims of both filters to 3d (x, y ,t):\n",
    "dogs_3d = []\n",
    "for i in range(n_filters):\n",
    "    dogs_3d.append(np.expand_dims(dogs_fft[i], -1))\n",
    "\n",
    "tfilter_3d = np.expand_dims(tfilter, (0, 1))"
   ]
  },
  {
   "cell_type": "code",
   "execution_count": null,
   "id": "c07c880c",
   "metadata": {},
   "outputs": [],
   "source": [
    "# Perform spatiotemporal filtering in the frequency domain and ifft\n",
    "# The output contains the spatiotemporally-filtered input video at each spatial scale\n",
    "output_filt = np.zeros([nX, nX, nT, n_filters])\n",
    "for i in range(n_filters):\n",
    "    output = gfft_3d * dogs_3d[i] * tfilter_3d\n",
    "    output = np.fft.ifftn(np.fft.ifftshift(output))\n",
    "    output_filt[:, :, :, i] = np.real(output)"
   ]
  },
  {
   "cell_type": "code",
   "execution_count": null,
   "id": "51a977ba",
   "metadata": {},
   "outputs": [],
   "source": [
    "# Plot activation of all filters over time (scale 0-4 -> hsf-lsf)\n",
    "anim = show_filter_videos(output_filt, 'coolwarm')\n",
    "HTML(anim.to_html5_video())"
   ]
  },
  {
   "cell_type": "code",
   "execution_count": null,
   "id": "75615ac2",
   "metadata": {},
   "outputs": [],
   "source": [
    "# Also visualize the activation after full-wave rectification (see next step)\n",
    "anim = show_filter_videos(output_filt**2., 'pink')\n",
    "HTML(anim.to_html5_video())"
   ]
  },
  {
   "attachments": {},
   "cell_type": "markdown",
   "id": "14c5a691",
   "metadata": {},
   "source": [
    "## (D) Temporal integration"
   ]
  },
  {
   "cell_type": "code",
   "execution_count": null,
   "id": "8d115b74",
   "metadata": {},
   "outputs": [],
   "source": [
    "# At each scale, we integrate information across the time via the squared mean\n",
    "output_int = (output_filt**2.).mean(2)"
   ]
  },
  {
   "cell_type": "code",
   "execution_count": null,
   "id": "ab7cfabc",
   "metadata": {},
   "outputs": [],
   "source": [
    "# Plot the temporally integrated outputs for each scale\n",
    "fig, axes = plt.subplots(1, n_filters, figsize=(18, 6), sharex=True, sharey=True)\n",
    "fig.subplots_adjust(wspace=0.001)\n",
    "\n",
    "# Let's compute the min/max to demonstrate the relevance of normalization\n",
    "omin, omax = output_int.min(), output_int.max()\n",
    "\n",
    "for i in range(n_filters):\n",
    "    axes[i].imshow(output_int[:, :, i], cmap='pink', extent=visual_extent, vmin=omin, vmax=omax)\n",
    "    axes[i].set_title('Spatial scale: ' + str(i))\n",
    "    axes[i].set_xlabel('deg')\n",
    "    axes[0].set_ylabel('deg')"
   ]
  },
  {
   "attachments": {},
   "cell_type": "markdown",
   "id": "f791e754",
   "metadata": {},
   "source": [
    "## (E) Within-scale normalization"
   ]
  },
  {
   "cell_type": "code",
   "execution_count": null,
   "id": "d7c0395e",
   "metadata": {},
   "outputs": [],
   "source": [
    "# Remove borders before normalization to avoid border-effects\n",
    "rb = 0.5\n",
    "output_rem = remove_borders(output_int, int(rb*ppd))\n",
    "\n",
    "# Normalize within each scale\n",
    "output_norm = output_rem / np.expand_dims(output_rem.mean(axis=(0, 1)), (0, 1))"
   ]
  },
  {
   "cell_type": "code",
   "execution_count": null,
   "id": "b7daa619",
   "metadata": {},
   "outputs": [],
   "source": [
    "# Plot the normalized outputs for each scale\n",
    "fig, axes = plt.subplots(1, n_filters, figsize=(18, 6), sharex=True, sharey=True)\n",
    "fig.subplots_adjust(wspace=0.001)\n",
    "\n",
    "# Let's compute the min/max to demonstrate the relevance of normalization\n",
    "omin, omax = output_norm.min(), output_norm.max()\n",
    "\n",
    "for i in range(n_filters):\n",
    "    axes[i].imshow(output_norm[:, :, i], cmap='pink', extent=visual_extent, vmin=omin, vmax=omax)\n",
    "    axes[i].set_title('Spatial scale: ' + str(i))\n",
    "    axes[i].set_xlabel('deg')\n",
    "    axes[0].set_ylabel('deg')"
   ]
  },
  {
   "attachments": {},
   "cell_type": "markdown",
   "id": "78513812",
   "metadata": {},
   "source": [
    "## (F) Across-scale integration / Sum"
   ]
  },
  {
   "cell_type": "code",
   "execution_count": null,
   "id": "379464fd",
   "metadata": {},
   "outputs": [],
   "source": [
    "# Sum model responses across spatial scales:\n",
    "model_output = np.sum(output_norm, 2)\n",
    "\n",
    "# Adapted visual extent after border removal:\n",
    "vextent_adapt = [visual_extent[0]+rb, visual_extent[1]-rb, visual_extent[2]+rb, visual_extent[3]-rb]"
   ]
  },
  {
   "cell_type": "code",
   "execution_count": null,
   "id": "5f188846",
   "metadata": {},
   "outputs": [],
   "source": [
    "# Plot the final model output\n",
    "plt.figure(figsize=(15, 6))\n",
    "plt.subplot(1, 2, 1)\n",
    "plt.imshow(stimulus, cmap='gray', extent=visual_extent)\n",
    "plt.colorbar()\n",
    "plt.title('Example input')\n",
    "plt.xlabel('deg')\n",
    "plt.ylabel('deg')\n",
    "\n",
    "plt.subplot(1, 2, 2)\n",
    "plt.imshow(model_output, cmap='pink', extent=vextent_adapt)\n",
    "plt.colorbar()\n",
    "plt.title('Model output')\n",
    "plt.xlabel('deg')\n",
    "plt.ylabel('deg')\n",
    "plt.show()"
   ]
  },
  {
   "attachments": {},
   "cell_type": "markdown",
   "id": "688de8a6",
   "metadata": {},
   "source": [
    "## (G) Evaluation"
   ]
  },
  {
   "cell_type": "code",
   "execution_count": null,
   "id": "aa1d7052",
   "metadata": {},
   "outputs": [],
   "source": [
    "# Create ground truth template with certain edge thickness (in deg)\n",
    "edge_thickness = int(0.1*ppd)\n",
    "\n",
    "if test_case == 'case1':\n",
    "    # Create ground truth edge map\n",
    "    gt_template = create_white_gt(stim_size, back_size, whitefreq, ppd, edge_thickness)\n",
    "\n",
    "elif test_case == 'case2':\n",
    "    # Import human-drawn ground truth and normalize between 0 (no contour) to 1 (contour)\n",
    "    gt_template = cv2.imread(input_path + 'gt/' + img_name + '_gt_binary.pgm')\n",
    "    gt_template = cv2.cvtColor(gt_template, cv2.COLOR_BGR2GRAY) / 255.\n",
    "    gt_template = np.abs(gt_template-1.)\n",
    "    \n",
    "    # Thicken the edge signals to make them more comparable with our output\n",
    "    gt_template = thicken_edges(gt_template, edge_thickness)\n",
    "\n",
    "# Remove borders\n",
    "gt_template = remove_borders(gt_template, int(rb*ppd))"
   ]
  },
  {
   "cell_type": "code",
   "execution_count": null,
   "id": "d7b3196d",
   "metadata": {},
   "outputs": [],
   "source": [
    "# Normalize model output (optional)\n",
    "model_output = model_output / np.expand_dims(model_output.max(axis=(0, 1)), (0, 1))\n",
    "\n",
    "# Quantify edge detection performance by aligning and correlating\n",
    "# the model output and the ground truth\n",
    "edge_corrs = quantify_edges(model_output, gt_template)"
   ]
  },
  {
   "cell_type": "code",
   "execution_count": null,
   "id": "9e1374ea",
   "metadata": {},
   "outputs": [],
   "source": [
    "# Plot model output and ground truth\n",
    "plt.figure(figsize=(18, 6))\n",
    "plt.subplot(1, 3, 1)\n",
    "plt.imshow(stimulus, cmap='gray', extent=visual_extent)\n",
    "plt.colorbar()\n",
    "plt.title('Input')\n",
    "plt.xlabel('deg')\n",
    "plt.ylabel('deg')\n",
    "\n",
    "plt.subplot(1, 3, 2)\n",
    "plt.imshow(gt_template, cmap='pink', extent=vextent_adapt)\n",
    "plt.colorbar()\n",
    "plt.title('Ground truth')\n",
    "plt.xlabel('deg')\n",
    "plt.ylabel('deg')\n",
    "\n",
    "plt.subplot(1, 3, 3)\n",
    "plt.imshow(model_output, cmap='pink', extent=vextent_adapt)\n",
    "plt.colorbar()\n",
    "plt.title('Model output')\n",
    "plt.xlabel('deg')\n",
    "plt.ylabel('deg')\n",
    "plt.show()\n",
    "\n",
    "# Print model performance, i.e. Pearson correlation with ground truth template\n",
    "print('Model performance: ', edge_corrs)"
   ]
  },
  {
   "cell_type": "code",
   "execution_count": null,
   "id": "1db7744d",
   "metadata": {},
   "outputs": [],
   "source": []
  }
 ],
 "metadata": {
  "kernelspec": {
   "display_name": "Python 3",
   "language": "python",
   "name": "python3"
  },
  "language_info": {
   "codemirror_mode": {
    "name": "ipython",
    "version": 3
   },
   "file_extension": ".py",
   "mimetype": "text/x-python",
   "name": "python",
   "nbconvert_exporter": "python",
   "pygments_lexer": "ipython3",
   "version": "3.9.16"
  }
 },
 "nbformat": 4,
 "nbformat_minor": 5
}
